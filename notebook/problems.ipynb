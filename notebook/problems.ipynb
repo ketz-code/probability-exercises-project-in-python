{
 "cells": [
  {
   "cell_type": "markdown",
   "id": "a41f3622",
   "metadata": {},
   "source": [
    "# Probability exercises"
   ]
  },
  {
   "cell_type": "markdown",
   "id": "a6bdbd89",
   "metadata": {},
   "source": [
    "## Exercise 1 \n",
    "\n",
    "Two dices are thrown once and the total score is observed. Use a simulation to find the estimated probability that the total score is even or greater than 7.  A simulation is a repetition of the same experiment multiple times to observe its behavior:\n",
    "\n",
    "- Run the experiment 1000 times (roll 2 dice 1000 times, and sum the number of both dices).\n",
    "- Keep track of the number of times that the sum was either greater than 7 or an even number.\n",
    "- Divide the number from step 2 by the number of iterations (1000)."
   ]
  },
  {
   "cell_type": "code",
   "execution_count": 11,
   "id": "8939d892",
   "metadata": {},
   "outputs": [],
   "source": [
    "# TODO\n",
    "#importar librerias\n",
    "import numpy as np\n",
    "import pandas as pd\n",
    "import random\n",
    "from collections import Counter"
   ]
  },
  {
   "cell_type": "code",
   "execution_count": 10,
   "id": "20756c9d",
   "metadata": {},
   "outputs": [
    {
     "name": "stdout",
     "output_type": "stream",
     "text": [
      "Number of simultions: 1000\n",
      "probability that the result is even or greater than seven is 0.656\n"
     ]
    }
   ],
   "source": [
    "# Run the experiment 1000 times (roll 2 dice 1000 times, and sum the number of both dices).\n",
    "num_simulations = 1000\n",
    "#Create the simulation funtion\n",
    "def simulation_dice_rolls(num_simulations):\n",
    "        count_positive_results = 0\n",
    "        for i in range(num_simulations):\n",
    "            die_one = random.randint(1,6)\n",
    "            die_two = random.randint(1,6)\n",
    "            total_score = die_one + die_two \n",
    "\n",
    "            if total_score %2 == 0 or total_score > 7:     #Keep track of the number of times that the sum was either greater than 7 or an even number.\n",
    "                count_positive_results += 1\n",
    "    \n",
    "        probability_rolls = count_positive_results / num_simulations     #Divide the number from step 2 by the number of iterations (1000). \n",
    "        return probability_rolls\n",
    "\n",
    "probability = simulation_dice_rolls(num_simulations)\n",
    "\n",
    "print(f'Number of simultions: {num_simulations}')\n",
    "print(f'probability that the result is even or greater than seven is {probability}')"
   ]
  },
  {
   "cell_type": "markdown",
   "id": "55732bca",
   "metadata": {},
   "source": [
    "## Exercise 2\n",
    "\n",
    "A box contains 10 white balls, 20 red balls and 30 green balls. If we take 5 balls from the box with replacement (we take the ball, observe what color it is and put it back into the box). We want to know the probability of:\n",
    "\n",
    "1. Take 3 white and 2 red.\n",
    "2. Take all of the same color.\n",
    "\n",
    "Run the experiment 1000 times and calculate the above probabilities."
   ]
  },
  {
   "cell_type": "code",
   "execution_count": 13,
   "id": "23244d20",
   "metadata": {},
   "outputs": [
    {
     "name": "stdout",
     "output_type": "stream",
     "text": [
      "{0: 'White', 1: 'White', 2: 'White', 3: 'White', 4: 'White', 5: 'White', 6: 'White', 7: 'White', 8: 'White', 9: 'White', 10: 'Red', 11: 'Red', 12: 'Red', 13: 'Red', 14: 'Red', 15: 'Red', 16: 'Red', 17: 'Red', 18: 'Red', 19: 'Red', 20: 'Red', 21: 'Red', 22: 'Red', 23: 'Red', 24: 'Red', 25: 'Red', 26: 'Red', 27: 'Red', 28: 'Red', 29: 'Red', 30: 'Green', 31: 'Green', 32: 'Green', 33: 'Green', 34: 'Green', 35: 'Green', 36: 'Green', 37: 'Green', 38: 'Green', 39: 'Green', 40: 'Green', 41: 'Green', 42: 'Green', 43: 'Green', 44: 'Green', 45: 'Green', 46: 'Green', 47: 'Green', 48: 'Green', 49: 'Green', 50: 'Green', 51: 'Green', 52: 'Green', 53: 'Green', 54: 'Green', 55: 'Green', 56: 'Green', 57: 'Green', 58: 'Green', 59: 'Green'}\n",
      "Ball list for simulation['White', 'White', 'White', 'White', 'White', 'White', 'White', 'White', 'White', 'White', 'Red', 'Red', 'Red', 'Red', 'Red', 'Red', 'Red', 'Red', 'Red', 'Red', 'Red', 'Red', 'Red', 'Red', 'Red', 'Red', 'Red', 'Red', 'Red', 'Red', 'Green', 'Green', 'Green', 'Green', 'Green', 'Green', 'Green', 'Green', 'Green', 'Green', 'Green', 'Green', 'Green', 'Green', 'Green', 'Green', 'Green', 'Green', 'Green', 'Green', 'Green', 'Green', 'Green', 'Green', 'Green', 'Green', 'Green', 'Green', 'Green', 'Green']\n",
      "Number of simultations: 1000\n",
      "Probability of taking 3 white and 2 red balls: 0.006\n",
      "Probability of taking all balls of the same color: 0.04\n"
     ]
    }
   ],
   "source": [
    "\n",
    "ball_box = {}\n",
    "\n",
    "# Create the box of balls\n",
    "for i in range(60):\n",
    "    if i < 10:\n",
    "        ball_box[i] = \"White\"\n",
    "    elif (i > 9) and (i < 30):\n",
    "        ball_box[i] = \"Red\"\n",
    "    else:\n",
    "        ball_box[i] = \"Green\"\n",
    "\n",
    "print(ball_box)\n",
    "            \n",
    "# TODO\n",
    "\n",
    "ball_list = list(ball_box.values())\n",
    "print(f'Ball list for simulation{ball_list}')\n",
    "\n",
    "num_ball_simulations = 1000\n",
    "count_ball_positive_1 = 0\n",
    "count_ball_positive_2 = 0\n",
    "\n",
    "for i in range(num_ball_simulations):\n",
    "    drawn_balls = [random.choice(ball_list) for i in range (5)]\n",
    "    drawn_counts = Counter(drawn_balls)\n",
    "\n",
    "    if drawn_counts.get(\"White\", 0) == 3 and drawn_counts.get (\"Red\", 0) == 2:\n",
    "        count_ball_positive_1 += 1\n",
    "\n",
    "    if len(drawn_counts) == 1:\n",
    "        count_ball_positive_2 += 1 \n",
    "\n",
    "probability_1 = count_ball_positive_1 / num_ball_simulations\n",
    "probability_2 = count_ball_positive_2 / num_ball_simulations\n",
    "\n",
    "print(f'Number of simultations: {num_ball_simulations}')\n",
    "print(f'Probability of taking 3 white and 2 red balls: {probability_1}')\n",
    "print(f'Probability of taking all balls of the same color: {probability_2}')"
   ]
  }
 ],
 "metadata": {
  "kernelspec": {
   "display_name": ".venv",
   "language": "python",
   "name": "python3"
  },
  "language_info": {
   "codemirror_mode": {
    "name": "ipython",
    "version": 3
   },
   "file_extension": ".py",
   "mimetype": "text/x-python",
   "name": "python",
   "nbconvert_exporter": "python",
   "pygments_lexer": "ipython3",
   "version": "3.11.4"
  }
 },
 "nbformat": 4,
 "nbformat_minor": 5
}
